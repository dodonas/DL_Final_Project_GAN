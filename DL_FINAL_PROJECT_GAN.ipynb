{
  "nbformat": 4,
  "nbformat_minor": 0,
  "metadata": {
    "colab": {
      "name": "DL_FINAL_PROJECT_GAN.ipynb",
      "provenance": [],
      "collapsed_sections": [],
      "toc_visible": true,
      "authorship_tag": "ABX9TyPzRPqURayz9JQsHGKprQm/",
      "include_colab_link": true
    },
    "kernelspec": {
      "name": "python3",
      "display_name": "Python 3"
    },
    "language_info": {
      "name": "python"
    },
    "accelerator": "GPU"
  },
  "cells": [
    {
      "cell_type": "markdown",
      "metadata": {
        "id": "view-in-github",
        "colab_type": "text"
      },
      "source": [
        "<a href=\"https://colab.research.google.com/github/dodonas/DL_Final_Project_GAN/blob/master/DL_FINAL_PROJECT_GAN.ipynb\" target=\"_parent\"><img src=\"https://colab.research.google.com/assets/colab-badge.svg\" alt=\"Open In Colab\"/></a>"
      ]
    },
    {
      "cell_type": "markdown",
      "source": [
        "# Generative Adversarial Networks - Afeka, Deep Learning\n",
        "# Final project - Implementing DCGANs in Keras"
      ],
      "metadata": {
        "id": "324sB5dOc43u"
      }
    },
    {
      "cell_type": "markdown",
      "source": [
        "# Submitters\n",
        "\n",
        "[Andrey Dodon](https://www.kaggle.com/andreydodon) - ID 317858298\n",
        "\n",
        "[Pazit Lazar](https://il.linkedin.com/in/pazit-lazar-85012272) - ID 204059919\n",
        "\n",
        "[Erez Mahalu](https://il.linkedin.com/in/erez-mahalu-589388109) - ID 305465619\n",
        "\n",
        "[Ekaterina Natanov](https://il.linkedin.com/in/ekaterina-natanov-0960135a) - ID ??????????"
      ],
      "metadata": {
        "id": "xfZbKOEcck_Q"
      }
    },
    {
      "cell_type": "markdown",
      "source": [
        "# Document reference\n",
        "[Unsupervised Representation Learning with Deep Convolutional Generative Adversarial Networks](https://arxiv.org/abs/1511.06434)<br> \n",
        "This document implements a DCGAN as follows:\n",
        "\n",
        "* No pre-processing was applied to training images besides scaling to the range of the **Tanh activation** function [-1, 1]. \n",
        "* All models were trained with mini-batch stochastic gradient descent (SGD) with a mini-batch size of 128. \n",
        "* All weights were initialized from a zero-centered Normal distribution with standard deviation 0.02. \n",
        "* In the LeakyReLU, the slope of the leak was set to 0.2 in all models.\n",
        "* Used the [Adam optimizer](https://machinelearningmastery.com/adam-optimization-algorithm-for-deep-learning/). Adam is relatively easy to configure where the default configuration parameters do well on most problems. We found the suggested learning rate of 0.001, to be too high, using 0.0002 instead.\n",
        "\n",
        "\n",
        "---\n",
        "\n",
        "\n",
        "**Our notes**: we found leaving the momentum term $\\beta{1}$ at the suggested value of 0.9 resulted in training oscillation and instability while reducing it to 0.5 helped stabilize training.\n"
      ],
      "metadata": {
        "id": "isrWpmn2dSqG"
      }
    },
    {
      "cell_type": "markdown",
      "source": [
        "# Architecture guidelines\n",
        "\n",
        "* Replace any pooling layers with [strided](https://deepai.org/machine-learning-glossary-and-terms/stride) convolutions (discriminator) and [fractional-strided convolutions (generator)](https://deepai.org/machine-learning-glossary-and-terms/fractionally-strided-convolution).\n",
        "* Use [batchnorm](https://en.wikipedia.org/wiki/Batch_normalization) in both the generator and the discriminator.\n",
        "* Remove fully connected hidden layers for deeper architectures.\n",
        "* Use ReLU activation in generator for all layers except for the output, which uses Tanh.\n",
        "* Use LeakyReLU activation in the discriminator for all layers."
      ],
      "metadata": {
        "id": "kuLkYnCgIoJ4"
      }
    },
    {
      "cell_type": "markdown",
      "source": [
        "# Generator examples\n",
        "The code below will generate faces similar to these.  While these faces are not perfect, they demonstrate how we can construct and train a GAN on our own."
      ],
      "metadata": {
        "id": "miC1PMxFIwbJ"
      }
    },
    {
      "cell_type": "code",
      "source": [
        "from IPython.display import Image\n",
        "Image(url='https://github.com/dodonas/DL_Final_Project_GAN/raw/master/data/output/ganOutput.gif')"
      ],
      "metadata": {
        "id": "WbqFI6t0HbmE",
        "outputId": "6604a389-6b35-499f-d883-eefa7145f379",
        "colab": {
          "base_uri": "https://localhost:8080/",
          "height": 485
        }
      },
      "execution_count": 24,
      "outputs": [
        {
          "output_type": "execute_result",
          "data": {
            "text/html": [
              "<img src=\"https://github.com/dodonas/DL_Final_Project_GAN/raw/master/data/output/ganOutput.gif\"/>"
            ],
            "text/plain": [
              "<IPython.core.display.Image object>"
            ]
          },
          "metadata": {},
          "execution_count": 24
        }
      ]
    },
    {
      "cell_type": "markdown",
      "source": [
        "# Quick reminder\n",
        "As discussed during the ZOOM presentation, the GAN is made up of two different neural networks: the Discriminator and the Generator.  The generator generates the images, while the discriminator detects if a face is real or was generated.  These two neural networks work as shown below:<br>\n",
        "![GAN](https://raw.githubusercontent.com/dodonas/DL_Final_Project_GAN/master/data/img/gan_flow.png \"GAN architecture\")\n",
        "\n",
        "The discriminator accepts an image as its input and produces number that is the probability of the input image being real.  The generator accepts a random seed vector and generates an image from that random vector seed. An unlimited number of new images can be created by providing additional seeds."
      ],
      "metadata": {
        "id": "IQRAUrZ0Hdla"
      }
    },
    {
      "cell_type": "markdown",
      "source": [
        "# Imports\n",
        "The following packages will be used to implement a basic GAN system in Python/Keras."
      ],
      "metadata": {
        "id": "IyRLe34B8Cgt"
      }
    },
    {
      "cell_type": "code",
      "source": [
        "import tensorflow as tf\n",
        "from tensorflow.keras.layers import Input, Reshape, Dropout, Dense \n",
        "from tensorflow.keras.layers import Flatten, BatchNormalization\n",
        "from tensorflow.keras.layers import Activation, ZeroPadding2D\n",
        "from tensorflow.keras.layers import LeakyReLU\n",
        "from tensorflow.keras.layers import UpSampling2D, Conv2D\n",
        "from tensorflow.keras.models import Sequential, Model, load_model\n",
        "from tensorflow.keras.optimizers import Adam\n",
        "import numpy as np\n",
        "from PIL import Image\n",
        "from tqdm import tqdm\n",
        "import os \n",
        "import time\n",
        "import matplotlib.pyplot as plt"
      ],
      "metadata": {
        "id": "Dr3RUvZf8EVa"
      },
      "execution_count": 8,
      "outputs": []
    },
    {
      "cell_type": "markdown",
      "source": [
        "# Helpers"
      ],
      "metadata": {
        "id": "iayK0LZXgk55"
      }
    },
    {
      "cell_type": "code",
      "source": [
        "def hms_string(sec_elapsed):\n",
        "    h = int(sec_elapsed / (60 * 60))\n",
        "    m = int((sec_elapsed % (60 * 60)) / 60)\n",
        "    s = sec_elapsed % 60\n",
        "    return \"{}H:{:>02}M:{:>05.2f}sec\".format(h, m, s)"
      ],
      "metadata": {
        "id": "sXVlBpdidN_5"
      },
      "execution_count": 7,
      "outputs": []
    },
    {
      "cell_type": "markdown",
      "source": [
        "# Setup\n",
        "The constants below define how the GANs will be created for this presentation.<br>The higher the resolution, the more memory will be needed.<br>Higher resolution will also result in longer run times.<br>For Google CoLab (with GPU) 128x128 resolution is as high as can be used (due to memory).<br>Note that the resolution is specified as a multiple of 32.<br>So **GENERATE_RES** of 1 is 32, 2 is 64, etc.<br>\n",
        "Note: GENERATE_RES 4 or higher will blow Google CoLab's memory and have not been tested extensivly.\n",
        "\n",
        "We used [Kaggle Faces Dataset](https://www.kaggle.com/gasgallo/faces-data-new)"
      ],
      "metadata": {
        "id": "jppFz_J18fN1"
      }
    },
    {
      "cell_type": "code",
      "source": [
        "%%capture\n",
        "!rm -rf archive.zip\n",
        "!wget https://github.com/dodonas/DL_Final_Project_GAN/raw/master/data/input/archive.zip\n",
        "!rm -rf images\n",
        "!unzip archive.zip"
      ],
      "metadata": {
        "colab": {
          "base_uri": "https://localhost:8080/"
        },
        "id": "5hJ32RU5Kv6y",
        "outputId": "60214864-b36f-43c7-fac8-4cf0a3d00e98"
      },
      "execution_count": 4,
      "outputs": [
        {
          "output_type": "stream",
          "name": "stdout",
          "text": [
            "--2021-12-26 09:14:51--  https://github.com/dodonas/DL_Final_Project_GAN/raw/master/data/input/archive.zip\n",
            "Resolving github.com (github.com)... 140.82.121.4\n",
            "Connecting to github.com (github.com)|140.82.121.4|:443... connected.\n",
            "HTTP request sent, awaiting response... 302 Found\n",
            "Location: https://raw.githubusercontent.com/dodonas/DL_Final_Project_GAN/master/data/input/archive.zip [following]\n",
            "--2021-12-26 09:14:51--  https://raw.githubusercontent.com/dodonas/DL_Final_Project_GAN/master/data/input/archive.zip\n",
            "Resolving raw.githubusercontent.com (raw.githubusercontent.com)... 185.199.108.133, 185.199.109.133, 185.199.110.133, ...\n",
            "Connecting to raw.githubusercontent.com (raw.githubusercontent.com)|185.199.108.133|:443... connected.\n",
            "HTTP request sent, awaiting response... 200 OK\n",
            "Length: 46903742 (45M) [application/zip]\n",
            "Saving to: ‘archive.zip’\n",
            "\n",
            "archive.zip         100%[===================>]  44.73M   218MB/s    in 0.2s    \n",
            "\n",
            "2021-12-26 09:14:53 (218 MB/s) - ‘archive.zip’ saved [46903742/46903742]\n",
            "\n"
          ]
        }
      ]
    },
    {
      "cell_type": "code",
      "source": [
        "# Generation resolution factor\n",
        "# (1=32, 2=64, 3=96, 4=128, etc.)\n",
        "GENERATE_RES = 3 \n",
        "GENERATE_SQUARE = 32 * GENERATE_RES\n",
        "IMAGE_CHANNELS = 3\n",
        "\n",
        "# Preview image \n",
        "PREVIEW_ROWS = 4\n",
        "PREVIEW_COLS = 7\n",
        "PREVIEW_MARGIN = 16\n",
        "\n",
        "# Size vector to generate images from\n",
        "SEED_SIZE = 100\n",
        "\n",
        "# Configuration\n",
        "DATA_PATH = './images'\n",
        "EPOCHS = 50\n",
        "BATCH_SIZE = 32\n",
        "BUFFER_SIZE = 60000\n",
        "\n",
        "print(f\"Will generate {GENERATE_SQUARE}px square images.\")"
      ],
      "metadata": {
        "colab": {
          "base_uri": "https://localhost:8080/"
        },
        "id": "1Vyx4gNEAQv7",
        "outputId": "0c684d4d-8603-4724-bde8-28a18601f382"
      },
      "execution_count": 6,
      "outputs": [
        {
          "output_type": "stream",
          "name": "stdout",
          "text": [
            "Will generate 96px square images.\n"
          ]
        }
      ]
    },
    {
      "cell_type": "markdown",
      "source": [
        "Next we will load and preprocess the images.<br>Image set has 7864 images.  Can take over an hour<br>Because of this we store the processed file as a binary in a 'binary' folder.<br>This way we can simply reload the processed training data and quickly use it.<br>It is most efficient to only perform this operation once.<br>The dimensions of the image are encoded into the filename of the binary file because we need to regenerate it if these change."
      ],
      "metadata": {
        "id": "80_q-Cx2REt_"
      }
    },
    {
      "cell_type": "code",
      "source": [
        "!mkdir binary"
      ],
      "metadata": {
        "id": "woAZ4lN5P5N4"
      },
      "execution_count": 9,
      "outputs": []
    },
    {
      "cell_type": "code",
      "source": [
        "training_binary_path = os.path.join('./binary',\n",
        "        f'training_data_{GENERATE_SQUARE}_{GENERATE_SQUARE}.npy')\n",
        "\n",
        "print(f\"Looking for file: {training_binary_path}\")\n",
        "\n",
        "if not os.path.isfile(training_binary_path):\n",
        "  start = time.time()\n",
        "  print(\"Loading training images...\")\n",
        "\n",
        "  training_data = []\n",
        "  # faces_path = './images'\n",
        "  for filename in tqdm(os.listdir(DATA_PATH)):\n",
        "      path = os.path.join(DATA_PATH,filename)\n",
        "      image = Image.open(path).resize((GENERATE_SQUARE,\n",
        "            GENERATE_SQUARE),Image.ANTIALIAS)\n",
        "      training_data.append(np.asarray(image))\n",
        "  training_data = np.reshape(training_data,(-1,GENERATE_SQUARE,\n",
        "            GENERATE_SQUARE,IMAGE_CHANNELS))\n",
        "  training_data = training_data.astype(np.float32)\n",
        "  training_data = training_data / 127.5 - 1.\n",
        "\n",
        "\n",
        "  print(\"Saving training image binary...\")\n",
        "  np.save(training_binary_path,training_data)\n",
        "  elapsed = time.time()-start\n",
        "  print (f'Image preprocess time: {hms_string(elapsed)}')\n",
        "else:\n",
        "  print(\"Loading previous training pickle...\")\n",
        "  training_data = np.load(training_binary_path)"
      ],
      "metadata": {
        "colab": {
          "base_uri": "https://localhost:8080/"
        },
        "id": "l2VvUB8POjK7",
        "outputId": "91987314-458a-4cbe-b81f-e2432124d35a"
      },
      "execution_count": 10,
      "outputs": [
        {
          "output_type": "stream",
          "name": "stdout",
          "text": [
            "Looking for file: ./binary/training_data_96_96.npy\n",
            "Loading training images...\n"
          ]
        },
        {
          "output_type": "stream",
          "name": "stderr",
          "text": [
            "100%|██████████| 7864/7864 [00:14<00:00, 558.99it/s]\n"
          ]
        },
        {
          "output_type": "stream",
          "name": "stdout",
          "text": [
            "Saving training image binary...\n",
            "Image preprocess time: 0H:00M:17.96sec\n"
          ]
        }
      ]
    },
    {
      "cell_type": "markdown",
      "source": [
        "We will use a TensorFlow **Dataset** object to actually hold the images.<br>This allows the data to be quickly shuffled and divided into the appropriate batch sizes for training.  "
      ],
      "metadata": {
        "id": "GzmTijbWXCyv"
      }
    },
    {
      "cell_type": "code",
      "source": [
        "train_dataset = tf.data.Dataset.from_tensor_slices(training_data).shuffle(BUFFER_SIZE).batch(BATCH_SIZE)"
      ],
      "metadata": {
        "id": "dKoAWR9sXRkm"
      },
      "execution_count": 11,
      "outputs": []
    },
    {
      "cell_type": "markdown",
      "source": [
        "Next we actually build the discriminator and the generator.<br>Both will be trained with the Adam optimizer.<br>Adam optimization is a stochastic gradient descent method that is based<br>on adaptive estimation of first-order and second-order moments.<br>According to [Kingma et al., 2014](http://arxiv.org/abs/1412.6980), the method is \"computationally efficient,<br>has little memory requirement, invariant to diagonal rescaling of gradients,<br>and is well suited for problems that are large in terms of data/parameters\"."
      ],
      "metadata": {
        "id": "jHMNCRITXxF_"
      }
    },
    {
      "cell_type": "markdown",
      "source": [
        "# Generator"
      ],
      "metadata": {
        "id": "kU3s370ZY8Vl"
      }
    },
    {
      "cell_type": "code",
      "source": [
        "def build_generator(seed_size, channels):\n",
        "    model = Sequential()\n",
        "\n",
        "    model.add(Dense(4*4*256,activation=\"relu\",input_dim=seed_size))\n",
        "    model.add(Reshape((4,4,256)))\n",
        "\n",
        "    model.add(UpSampling2D())\n",
        "    model.add(Conv2D(256,kernel_size=3,padding=\"same\"))\n",
        "    model.add(BatchNormalization(momentum=0.8))\n",
        "    model.add(Activation(\"relu\"))\n",
        "\n",
        "    model.add(UpSampling2D())\n",
        "    model.add(Conv2D(256,kernel_size=3,padding=\"same\"))\n",
        "    model.add(BatchNormalization(momentum=0.8))\n",
        "    model.add(Activation(\"relu\"))\n",
        "   \n",
        "    # Output resolution, additional upsampling\n",
        "    model.add(UpSampling2D())\n",
        "    model.add(Conv2D(128,kernel_size=3,padding=\"same\"))\n",
        "    model.add(BatchNormalization(momentum=0.8))\n",
        "    model.add(Activation(\"relu\"))\n",
        "\n",
        "    if GENERATE_RES>1:\n",
        "      model.add(UpSampling2D(size=(GENERATE_RES,GENERATE_RES)))\n",
        "      model.add(Conv2D(128,kernel_size=3,padding=\"same\"))\n",
        "      model.add(BatchNormalization(momentum=0.8))\n",
        "      model.add(Activation(\"relu\"))\n",
        "\n",
        "    # Final CNN layer\n",
        "    model.add(Conv2D(channels,kernel_size=3,padding=\"same\"))\n",
        "    model.add(Activation(\"tanh\"))\n",
        "\n",
        "    return model"
      ],
      "metadata": {
        "id": "KYDOFQV1Y6Fe"
      },
      "execution_count": 12,
      "outputs": []
    },
    {
      "cell_type": "markdown",
      "source": [
        "# Discriminator"
      ],
      "metadata": {
        "id": "6F07Eu8aZCbR"
      }
    },
    {
      "cell_type": "code",
      "source": [
        "def build_discriminator(image_shape):\n",
        "    model = Sequential()\n",
        "\n",
        "    model.add(Conv2D(32, kernel_size=3, strides=2, input_shape=image_shape, \n",
        "                     padding=\"same\"))\n",
        "    model.add(LeakyReLU(alpha=0.2))\n",
        "\n",
        "    model.add(Dropout(0.25))\n",
        "    model.add(Conv2D(64, kernel_size=3, strides=2, padding=\"same\"))\n",
        "    model.add(ZeroPadding2D(padding=((0,1),(0,1))))\n",
        "    model.add(BatchNormalization(momentum=0.8))\n",
        "    model.add(LeakyReLU(alpha=0.2))\n",
        "\n",
        "    model.add(Dropout(0.25))\n",
        "    model.add(Conv2D(128, kernel_size=3, strides=2, padding=\"same\"))\n",
        "    model.add(BatchNormalization(momentum=0.8))\n",
        "    model.add(LeakyReLU(alpha=0.2))\n",
        "\n",
        "    model.add(Dropout(0.25))\n",
        "    model.add(Conv2D(256, kernel_size=3, strides=1, padding=\"same\"))\n",
        "    model.add(BatchNormalization(momentum=0.8))\n",
        "    model.add(LeakyReLU(alpha=0.2))\n",
        "\n",
        "    model.add(Dropout(0.25))\n",
        "    model.add(Conv2D(512, kernel_size=3, strides=1, padding=\"same\"))\n",
        "    model.add(BatchNormalization(momentum=0.8))\n",
        "    model.add(LeakyReLU(alpha=0.2))\n",
        "\n",
        "    model.add(Dropout(0.25))\n",
        "    model.add(Flatten())\n",
        "    model.add(Dense(1, activation='sigmoid'))\n",
        "\n",
        "    return model"
      ],
      "metadata": {
        "id": "Dd9RrXOMZEw6"
      },
      "execution_count": 13,
      "outputs": []
    },
    {
      "cell_type": "code",
      "source": [
        "!rm -rf output\n",
        "!mkdir output"
      ],
      "metadata": {
        "id": "3G8UYE4hzJBQ"
      },
      "execution_count": 14,
      "outputs": []
    },
    {
      "cell_type": "markdown",
      "source": [
        ""
      ],
      "metadata": {
        "id": "zLIuDGYovpoa"
      }
    },
    {
      "cell_type": "code",
      "source": [
        "def save_images(cnt,noise):\n",
        "  image_array = np.full(( \n",
        "      PREVIEW_MARGIN + (PREVIEW_ROWS * (GENERATE_SQUARE+PREVIEW_MARGIN)), \n",
        "      PREVIEW_MARGIN + (PREVIEW_COLS * (GENERATE_SQUARE+PREVIEW_MARGIN)), IMAGE_CHANNELS), \n",
        "      255, dtype=np.uint8)\n",
        "  \n",
        "  generated_images = generator.predict(noise)\n",
        "\n",
        "  generated_images = 0.5 * generated_images + 0.5\n",
        "\n",
        "  image_count = 0\n",
        "  for row in range(PREVIEW_ROWS):\n",
        "      for col in range(PREVIEW_COLS):\n",
        "        r = row * (GENERATE_SQUARE+16) + PREVIEW_MARGIN\n",
        "        c = col * (GENERATE_SQUARE+16) + PREVIEW_MARGIN\n",
        "        image_array[r:r+GENERATE_SQUARE,c:c+GENERATE_SQUARE] \\\n",
        "            = generated_images[image_count] * 255\n",
        "        image_count += 1\n",
        "\n",
        "          \n",
        "  output_path = './output'\n",
        "  if not os.path.exists('./output'):\n",
        "    os.makedirs(output_path)\n",
        "  \n",
        "  filename = os.path.join(output_path,f\"train-{cnt}.png\")\n",
        "  im = Image.fromarray(image_array)\n",
        "  im.save(filename)"
      ],
      "metadata": {
        "id": "t0vWtsA6vhAs"
      },
      "execution_count": 15,
      "outputs": []
    },
    {
      "cell_type": "markdown",
      "source": [
        "# Initial impression from the Generator"
      ],
      "metadata": {
        "id": "yhVLU8H_ZdbV"
      }
    },
    {
      "cell_type": "code",
      "source": [
        "generator = build_generator(SEED_SIZE, IMAGE_CHANNELS)\n",
        "\n",
        "noise = tf.random.normal([1, SEED_SIZE])\n",
        "generated_image = generator(noise, training=False)\n",
        "\n",
        "plt.imshow(generated_image[0, :, :, 0])"
      ],
      "metadata": {
        "colab": {
          "base_uri": "https://localhost:8080/",
          "height": 285
        },
        "id": "18CeTm7bZxEd",
        "outputId": "e6574a4d-569d-42e6-fe53-92a793d7f552"
      },
      "execution_count": 16,
      "outputs": [
        {
          "output_type": "execute_result",
          "data": {
            "text/plain": [
              "<matplotlib.image.AxesImage at 0x7f8b9d460ad0>"
            ]
          },
          "metadata": {},
          "execution_count": 16
        },
        {
          "output_type": "display_data",
          "data": {
            "image/png": "[encoded data removed]",
            "text/plain": [
              "<Figure size 432x288 with 1 Axes>"
            ]
          },
          "metadata": {
            "needs_background": "light"
          }
        }
      ]
    },
    {
      "cell_type": "markdown",
      "source": [
        "# Initial impression from the Discriminator"
      ],
      "metadata": {
        "id": "UnLZMYoFanyV"
      }
    },
    {
      "cell_type": "code",
      "source": [
        "image_shape = (GENERATE_SQUARE,GENERATE_SQUARE,IMAGE_CHANNELS)\n",
        "\n",
        "discriminator = build_discriminator(image_shape)\n",
        "decision = discriminator(generated_image)\n",
        "print (decision)"
      ],
      "metadata": {
        "colab": {
          "base_uri": "https://localhost:8080/"
        },
        "id": "60WgWEMjarm2",
        "outputId": "620c3735-9cf4-49bc-c0c1-ef1774986de8"
      },
      "execution_count": 17,
      "outputs": [
        {
          "output_type": "stream",
          "name": "stdout",
          "text": [
            "tf.Tensor([[0.50035995]], shape=(1, 1), dtype=float32)\n"
          ]
        }
      ]
    },
    {
      "cell_type": "markdown",
      "source": [
        "Loss functions must be developed that allow the generator and discriminator to be trained in an adversarial way.<br>Because these two neural networks are being trained independently they must be trained in two separate passes.<br>This requires two separate loss functions and also two separate updates to the gradients.<br>When the discriminator's gradients are applied to decrease the discriminator's loss it is important<br>that only the discriminator's weights are update.  It is not fair, nor will it produce good results, to adversarially damage<br>the weights of the generator to help the discriminator.  A simple backpropagation would do this.  It would simultaneously<br>affect the weights of both Generator and Discriminator to lower whatever loss it was assigned to lower.<br>\n",
        "![GAN](https://raw.githubusercontent.com/dodonas/DL_Final_Project_GAN/master/data/img/g_d.png \"Visualization of GAN’s progression\")<br>\n",
        "Here a training set is generated with an equal number of real and fake images.<br>The real images are randomly sampled (chosen) from the training data.<br>An equal number of random images are generated from random seeds.<br>For the discriminator training set, the $x$ contains the input images and the $y$<br> contains a value of 1 for real images and 0 for generated ones.<br>\n",
        "![GAN](https://raw.githubusercontent.com/dodonas/DL_Final_Project_GAN/master/data/img/gan_fig_3.png \"Visualization of GAN’s progression\")<br>\n",
        "For the Generator training set, the $x$ contains the random seeds to<br>generate images and the $y$ always contains the value of 1, because the optimal<br>is for the generator to have generated such good images that the Discriminator was fooled into assigning them a probability near 1."
      ],
      "metadata": {
        "id": "UEuPCLpWd6yS"
      }
    },
    {
      "cell_type": "markdown",
      "source": [
        "The methods below return helper functions to compute cross-entropy loss"
      ],
      "metadata": {
        "id": "_mbC45ZcsGZc"
      }
    },
    {
      "cell_type": "code",
      "source": [
        "cross_entropy = tf.keras.losses.BinaryCrossentropy()\n",
        "\n",
        "def discriminator_loss(real_output, fake_output):\n",
        "    real_loss = cross_entropy(tf.ones_like(real_output), real_output)\n",
        "    fake_loss = cross_entropy(tf.zeros_like(fake_output), fake_output)\n",
        "    total_loss = real_loss + fake_loss\n",
        "    return total_loss\n",
        "\n",
        "def generator_loss(fake_output):\n",
        "    return cross_entropy(tf.ones_like(fake_output), fake_output)"
      ],
      "metadata": {
        "id": "p_CSfsLVryIf"
      },
      "execution_count": 18,
      "outputs": []
    },
    {
      "cell_type": "markdown",
      "source": [
        "Both the generator and discriminator use Adam and the same learning rate and momentum."
      ],
      "metadata": {
        "id": "FQkwEAZrsxeB"
      }
    },
    {
      "cell_type": "code",
      "source": [
        "generator_optimizer = tf.keras.optimizers.Adam(1.5e-4,0.5)\n",
        "discriminator_optimizer = tf.keras.optimizers.Adam(1.5e-4,0.5)"
      ],
      "metadata": {
        "id": "-1nnMMIDsy_x"
      },
      "execution_count": 19,
      "outputs": []
    },
    {
      "cell_type": "markdown",
      "source": [
        "The following function is where most of the training takes place for both the discriminator and the generator.<br>This function was based on the GAN provided by the [TensorFlow Keras exmples](https://www.tensorflow.org/tutorials/generative/dcgan) documentation.<br>The first thing you should notice about this function is that it is annotated with the **tf.function** annotation.<br>This causes the function to be precompiled and improves performance.<br>\n",
        "<br>\n",
        "This function trans differently than the code we previously saw for training.<br>This code makes use of **GradientTape** to allow the discriminator and generator to be trained together, yet separately. "
      ],
      "metadata": {
        "id": "9mbO5URDs2Pf"
      }
    },
    {
      "cell_type": "code",
      "source": [
        "# @tf.function decorator before your code will create a graph for that piece of code.\n",
        "# which is usually more performant and python independent\n",
        "@tf.function\n",
        "def train_step(images):\n",
        "  seed = tf.random.normal([BATCH_SIZE, SEED_SIZE])\n",
        "\n",
        "  with tf.GradientTape() as gen_tape, tf.GradientTape() as disc_tape:\n",
        "    generated_images = generator(seed, training=True)\n",
        "\n",
        "    real_output = discriminator(images, training=True)\n",
        "    fake_output = discriminator(generated_images, training=True)\n",
        "\n",
        "    gen_loss = generator_loss(fake_output)\n",
        "    disc_loss = discriminator_loss(real_output, fake_output)\n",
        "    \n",
        "\n",
        "    gradients_of_generator = gen_tape.gradient(\\\n",
        "        gen_loss, generator.trainable_variables)\n",
        "    gradients_of_discriminator = disc_tape.gradient(\\\n",
        "        disc_loss, discriminator.trainable_variables)\n",
        "\n",
        "    generator_optimizer.apply_gradients(zip(\n",
        "        gradients_of_generator, generator.trainable_variables))\n",
        "    discriminator_optimizer.apply_gradients(zip(\n",
        "        gradients_of_discriminator, \n",
        "        discriminator.trainable_variables))\n",
        "  return gen_loss,disc_loss"
      ],
      "metadata": {
        "id": "mbVCRKNotOYg"
      },
      "execution_count": 20,
      "outputs": []
    },
    {
      "cell_type": "code",
      "source": [
        "def train(dataset, epochs):\n",
        "  fixed_seed = np.random.normal(0, 1, (PREVIEW_ROWS * PREVIEW_COLS, \n",
        "                                       SEED_SIZE))\n",
        "  start = time.time()\n",
        "\n",
        "  for epoch in range(epochs):\n",
        "    epoch_start = time.time()\n",
        "\n",
        "    gen_loss_list = []\n",
        "    disc_loss_list = []\n",
        "\n",
        "    for image_batch in dataset:\n",
        "      t = train_step(image_batch)\n",
        "      gen_loss_list.append(t[0])\n",
        "      disc_loss_list.append(t[1])\n",
        "\n",
        "    g_loss = sum(gen_loss_list) / len(gen_loss_list)\n",
        "    d_loss = sum(disc_loss_list) / len(disc_loss_list)\n",
        "\n",
        "    epoch_elapsed = time.time()-epoch_start\n",
        "    print (f'Epoch {epoch+1}, gen loss={g_loss},disc loss={d_loss},'\\\n",
        "           f' {hms_string(epoch_elapsed)}')\n",
        "    save_images(epoch,fixed_seed)\n",
        "\n",
        "  elapsed = time.time()-start\n",
        "  print (f'Training time: {hms_string(elapsed)}')"
      ],
      "metadata": {
        "id": "kQQzaGK6tfDj"
      },
      "execution_count": 21,
      "outputs": []
    },
    {
      "cell_type": "code",
      "source": [
        "train(train_dataset, EPOCHS)"
      ],
      "metadata": {
        "id": "PzdrV-89tgfB"
      },
      "execution_count": null,
      "outputs": []
    },
    {
      "cell_type": "code",
      "source": [
        "!rm -rf generated\n",
        "!mkdir generated"
      ],
      "metadata": {
        "id": "zfXHM1y3tpJf"
      },
      "execution_count": 22,
      "outputs": []
    },
    {
      "cell_type": "code",
      "source": [
        "!zip -r ./ganOutput.zip ./output"
      ],
      "metadata": {
        "id": "boQJ8XGn1-GS"
      },
      "execution_count": null,
      "outputs": []
    },
    {
      "cell_type": "code",
      "source": [
        "generator.save(os.path.join('./generated',\"face_generator.h5\"))"
      ],
      "metadata": {
        "id": "3x3Dto-TtmEX",
        "colab": {
          "base_uri": "https://localhost:8080/"
        },
        "outputId": "a3b0c5d6-adbe-4f02-f8f1-10e713eee765"
      },
      "execution_count": 24,
      "outputs": [
        {
          "output_type": "stream",
          "name": "stdout",
          "text": [
            "WARNING:tensorflow:Compiled the loaded model, but the compiled metrics have yet to be built. `model.compile_metrics` will be empty until you train or evaluate the model.\n"
          ]
        }
      ]
    }
  ]
}